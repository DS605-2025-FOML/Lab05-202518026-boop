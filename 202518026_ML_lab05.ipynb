{
 "cells": [
  {
   "cell_type": "markdown",
   "id": "e2855a2e",
   "metadata": {},
   "source": [
    "# The Challenge : Predicting Telecom Customer Churn"
   ]
  },
  {
   "cell_type": "markdown",
   "id": "16190cac",
   "metadata": {},
   "source": [
    "A major telecom provider is experiencing significant customer churn (customers leaving their service). Your task is to build and evaluate a machine learning model that can predict which customers are likely to churn based on their account information and usage patterns.Identifying these customers proactively allows the company to offer targeted incentives to retain them."
   ]
  },
  {
   "cell_type": "code",
   "execution_count": 1,
   "id": "0264ac61",
   "metadata": {},
   "outputs": [],
   "source": [
    "import numpy as np\n",
    "import pandas as pd\n",
    "import seaborn as sns\n",
    "import matplotlib.pyplot as plt\n",
    "from imblearn.pipeline import Pipeline\n",
    "from imblearn.over_sampling import SMOTE\n",
    "from sklearn.ensemble import GradientBoostingClassifier, RandomForestClassifier\n",
    "from sklearn.model_selection import cross_val_score, train_test_split, GridSearchCV\n",
    "from sklearn.metrics import classification_report, confusion_matrix, precision_score, recall_score, f1_score, roc_auc_score\n",
    "from sklearn.linear_model import LogisticRegression\n",
    "from xgboost import XGBClassifier"
   ]
  },
  {
   "cell_type": "markdown",
   "id": "3cf01e48",
   "metadata": {},
   "source": [
    "## Task 1 : Exploratory Data Analysis (EDA) and Initial Cleaning"
   ]
  },
  {
   "cell_type": "markdown",
   "id": "e9be08a6",
   "metadata": {},
   "source": [
    "### 1.1. Load & Inspect"
   ]
  },
  {
   "cell_type": "code",
   "execution_count": 2,
   "id": "69fa5af0",
   "metadata": {},
   "outputs": [
    {
     "data": {
      "text/html": [
       "<div>\n",
       "<style scoped>\n",
       "    .dataframe tbody tr th:only-of-type {\n",
       "        vertical-align: middle;\n",
       "    }\n",
       "\n",
       "    .dataframe tbody tr th {\n",
       "        vertical-align: top;\n",
       "    }\n",
       "\n",
       "    .dataframe thead th {\n",
       "        text-align: right;\n",
       "    }\n",
       "</style>\n",
       "<table border=\"1\" class=\"dataframe\">\n",
       "  <thead>\n",
       "    <tr style=\"text-align: right;\">\n",
       "      <th></th>\n",
       "      <th>CustomerID</th>\n",
       "      <th>Gender</th>\n",
       "      <th>SeniorCitizen</th>\n",
       "      <th>Partner</th>\n",
       "      <th>Dependents</th>\n",
       "      <th>Tenure</th>\n",
       "      <th>PhoneService</th>\n",
       "      <th>InternetService</th>\n",
       "      <th>MonthlyCharges</th>\n",
       "      <th>TotalCharges</th>\n",
       "      <th>Churn</th>\n",
       "      <th>Timestamp</th>\n",
       "    </tr>\n",
       "  </thead>\n",
       "  <tbody>\n",
       "    <tr>\n",
       "      <th>0</th>\n",
       "      <td>CUST000001</td>\n",
       "      <td>Male</td>\n",
       "      <td>0.0</td>\n",
       "      <td>Yes</td>\n",
       "      <td>Yes</td>\n",
       "      <td>26.0</td>\n",
       "      <td>Yes</td>\n",
       "      <td>Fiber optic</td>\n",
       "      <td>70.32</td>\n",
       "      <td>NaN</td>\n",
       "      <td>No</td>\n",
       "      <td>2021-10-26</td>\n",
       "    </tr>\n",
       "    <tr>\n",
       "      <th>1</th>\n",
       "      <td>CUST000002</td>\n",
       "      <td>Female</td>\n",
       "      <td>0.0</td>\n",
       "      <td>No</td>\n",
       "      <td>No</td>\n",
       "      <td>NaN</td>\n",
       "      <td>Yes</td>\n",
       "      <td>Fiber optic</td>\n",
       "      <td>47.88</td>\n",
       "      <td>2161.36</td>\n",
       "      <td>Yes</td>\n",
       "      <td>2022-04-03</td>\n",
       "    </tr>\n",
       "    <tr>\n",
       "      <th>2</th>\n",
       "      <td>CUST000003</td>\n",
       "      <td>Male</td>\n",
       "      <td>0.0</td>\n",
       "      <td>No</td>\n",
       "      <td>Yes</td>\n",
       "      <td>NaN</td>\n",
       "      <td>Yes</td>\n",
       "      <td>NaN</td>\n",
       "      <td>99.91</td>\n",
       "      <td>4224.95</td>\n",
       "      <td>Yes</td>\n",
       "      <td>2021-05-03</td>\n",
       "    </tr>\n",
       "    <tr>\n",
       "      <th>3</th>\n",
       "      <td>CUST000004</td>\n",
       "      <td>Male</td>\n",
       "      <td>NaN</td>\n",
       "      <td>No</td>\n",
       "      <td>No</td>\n",
       "      <td>44.0</td>\n",
       "      <td>Yes</td>\n",
       "      <td>DSL</td>\n",
       "      <td>29.44</td>\n",
       "      <td>1340.09</td>\n",
       "      <td>No</td>\n",
       "      <td>2021-08-18</td>\n",
       "    </tr>\n",
       "    <tr>\n",
       "      <th>4</th>\n",
       "      <td>CUST000005</td>\n",
       "      <td>NaN</td>\n",
       "      <td>0.0</td>\n",
       "      <td>No</td>\n",
       "      <td>Yes</td>\n",
       "      <td>29.0</td>\n",
       "      <td>NaN</td>\n",
       "      <td>Fiber optic</td>\n",
       "      <td>78.82</td>\n",
       "      <td>2280.05</td>\n",
       "      <td>No</td>\n",
       "      <td>2022-02-17</td>\n",
       "    </tr>\n",
       "    <tr>\n",
       "      <th>...</th>\n",
       "      <td>...</td>\n",
       "      <td>...</td>\n",
       "      <td>...</td>\n",
       "      <td>...</td>\n",
       "      <td>...</td>\n",
       "      <td>...</td>\n",
       "      <td>...</td>\n",
       "      <td>...</td>\n",
       "      <td>...</td>\n",
       "      <td>...</td>\n",
       "      <td>...</td>\n",
       "      <td>...</td>\n",
       "    </tr>\n",
       "    <tr>\n",
       "      <th>99995</th>\n",
       "      <td>CUST099996</td>\n",
       "      <td>Male</td>\n",
       "      <td>0.0</td>\n",
       "      <td>No</td>\n",
       "      <td>Yes</td>\n",
       "      <td>53.0</td>\n",
       "      <td>Yes</td>\n",
       "      <td>NaN</td>\n",
       "      <td>26.52</td>\n",
       "      <td>NaN</td>\n",
       "      <td>No</td>\n",
       "      <td>2021-12-09</td>\n",
       "    </tr>\n",
       "    <tr>\n",
       "      <th>99996</th>\n",
       "      <td>CUST099997</td>\n",
       "      <td>NaN</td>\n",
       "      <td>0.0</td>\n",
       "      <td>Yes</td>\n",
       "      <td>No</td>\n",
       "      <td>61.0</td>\n",
       "      <td>Yes</td>\n",
       "      <td>Fiber optic</td>\n",
       "      <td>NaN</td>\n",
       "      <td>3534.35</td>\n",
       "      <td>No</td>\n",
       "      <td>2020-12-09</td>\n",
       "    </tr>\n",
       "    <tr>\n",
       "      <th>99997</th>\n",
       "      <td>CUST099998</td>\n",
       "      <td>NaN</td>\n",
       "      <td>0.0</td>\n",
       "      <td>No</td>\n",
       "      <td>No</td>\n",
       "      <td>41.0</td>\n",
       "      <td>NaN</td>\n",
       "      <td>NaN</td>\n",
       "      <td>NaN</td>\n",
       "      <td>4739.0</td>\n",
       "      <td>No</td>\n",
       "      <td>2021-09-08</td>\n",
       "    </tr>\n",
       "    <tr>\n",
       "      <th>99998</th>\n",
       "      <td>CUST099999</td>\n",
       "      <td>NaN</td>\n",
       "      <td>NaN</td>\n",
       "      <td>Yes</td>\n",
       "      <td>Yes</td>\n",
       "      <td>9.0</td>\n",
       "      <td>Yes</td>\n",
       "      <td>NaN</td>\n",
       "      <td>57.20</td>\n",
       "      <td>526.29</td>\n",
       "      <td>Yes</td>\n",
       "      <td>2021-02-11</td>\n",
       "    </tr>\n",
       "    <tr>\n",
       "      <th>99999</th>\n",
       "      <td>CUST100000</td>\n",
       "      <td>Female</td>\n",
       "      <td>0.0</td>\n",
       "      <td>NaN</td>\n",
       "      <td>NaN</td>\n",
       "      <td>57.0</td>\n",
       "      <td>Yes</td>\n",
       "      <td>No</td>\n",
       "      <td>76.16</td>\n",
       "      <td>4320.35</td>\n",
       "      <td>Yes</td>\n",
       "      <td>2021-01-23</td>\n",
       "    </tr>\n",
       "  </tbody>\n",
       "</table>\n",
       "<p>100000 rows × 12 columns</p>\n",
       "</div>"
      ],
      "text/plain": [
       "       CustomerID  Gender  SeniorCitizen Partner Dependents  Tenure  \\\n",
       "0      CUST000001    Male            0.0     Yes        Yes    26.0   \n",
       "1      CUST000002  Female            0.0      No         No     NaN   \n",
       "2      CUST000003    Male            0.0      No        Yes     NaN   \n",
       "3      CUST000004    Male            NaN      No         No    44.0   \n",
       "4      CUST000005     NaN            0.0      No        Yes    29.0   \n",
       "...           ...     ...            ...     ...        ...     ...   \n",
       "99995  CUST099996    Male            0.0      No        Yes    53.0   \n",
       "99996  CUST099997     NaN            0.0     Yes         No    61.0   \n",
       "99997  CUST099998     NaN            0.0      No         No    41.0   \n",
       "99998  CUST099999     NaN            NaN     Yes        Yes     9.0   \n",
       "99999  CUST100000  Female            0.0     NaN        NaN    57.0   \n",
       "\n",
       "      PhoneService InternetService  MonthlyCharges TotalCharges Churn  \\\n",
       "0              Yes     Fiber optic           70.32          NaN    No   \n",
       "1              Yes     Fiber optic           47.88      2161.36   Yes   \n",
       "2              Yes             NaN           99.91      4224.95   Yes   \n",
       "3              Yes             DSL           29.44      1340.09    No   \n",
       "4              NaN     Fiber optic           78.82      2280.05    No   \n",
       "...            ...             ...             ...          ...   ...   \n",
       "99995          Yes             NaN           26.52          NaN    No   \n",
       "99996          Yes     Fiber optic             NaN      3534.35    No   \n",
       "99997          NaN             NaN             NaN       4739.0    No   \n",
       "99998          Yes             NaN           57.20       526.29   Yes   \n",
       "99999          Yes              No           76.16      4320.35   Yes   \n",
       "\n",
       "        Timestamp  \n",
       "0      2021-10-26  \n",
       "1      2022-04-03  \n",
       "2      2021-05-03  \n",
       "3      2021-08-18  \n",
       "4      2022-02-17  \n",
       "...           ...  \n",
       "99995  2021-12-09  \n",
       "99996  2020-12-09  \n",
       "99997  2021-09-08  \n",
       "99998  2021-02-11  \n",
       "99999  2021-01-23  \n",
       "\n",
       "[100000 rows x 12 columns]"
      ]
     },
     "execution_count": 2,
     "metadata": {},
     "output_type": "execute_result"
    }
   ],
   "source": [
    "df = pd.read_csv('telecom_churn.csv')\n",
    "df"
   ]
  },
  {
   "cell_type": "markdown",
   "id": "401c9b19",
   "metadata": {},
   "source": [
    "### 1.2. Initial Cleaning"
   ]
  },
  {
   "cell_type": "code",
   "execution_count": 3,
   "id": "4291b8da",
   "metadata": {},
   "outputs": [
    {
     "name": "stdout",
     "output_type": "stream",
     "text": [
      "<class 'pandas.core.frame.DataFrame'>\n",
      "RangeIndex: 100000 entries, 0 to 99999\n",
      "Data columns (total 12 columns):\n",
      " #   Column           Non-Null Count   Dtype  \n",
      "---  ------           --------------   -----  \n",
      " 0   CustomerID       100000 non-null  object \n",
      " 1   Gender           81787 non-null   object \n",
      " 2   SeniorCitizen    81861 non-null   float64\n",
      " 3   Partner          81994 non-null   object \n",
      " 4   Dependents       82003 non-null   object \n",
      " 5   Tenure           82001 non-null   float64\n",
      " 6   PhoneService     82096 non-null   object \n",
      " 7   InternetService  81579 non-null   object \n",
      " 8   MonthlyCharges   81904 non-null   float64\n",
      " 9   TotalCharges     80257 non-null   object \n",
      " 10  Churn            100000 non-null  object \n",
      " 11  Timestamp        81757 non-null   object \n",
      "dtypes: float64(3), object(9)\n",
      "memory usage: 9.2+ MB\n"
     ]
    }
   ],
   "source": [
    "df.info()"
   ]
  },
  {
   "cell_type": "markdown",
   "id": "6dc0443f",
   "metadata": {},
   "source": [
    "Column 'TotalCharges' is of object type which should be converted to numeric type."
   ]
  },
  {
   "cell_type": "code",
   "execution_count": 4,
   "id": "58d382c0",
   "metadata": {},
   "outputs": [
    {
     "data": {
      "text/plain": [
       "TotalCharges\n",
       "<class 'str'>      80257\n",
       "<class 'float'>    19743\n",
       "Name: count, dtype: int64"
      ]
     },
     "execution_count": 4,
     "metadata": {},
     "output_type": "execute_result"
    }
   ],
   "source": [
    "df.TotalCharges.apply(type).value_counts()"
   ]
  },
  {
   "cell_type": "markdown",
   "id": "6806eb4d",
   "metadata": {},
   "source": [
    "Column 'TotalCharges' consists of both string & float data types."
   ]
  },
  {
   "cell_type": "code",
   "execution_count": 5,
   "id": "d770d6d8",
   "metadata": {},
   "outputs": [],
   "source": [
    "for i in df.TotalCharges:\n",
    "    if type(i)!=float:\n",
    "        if i.isnumeric==False:\n",
    "            print(i)"
   ]
  },
  {
   "cell_type": "markdown",
   "id": "69ed317f",
   "metadata": {},
   "source": [
    "No output shows 'TotalCharges' consists of either 'float' values or numbers as 'string'. So, we will simply convert all values to float in this column."
   ]
  },
  {
   "cell_type": "code",
   "execution_count": 6,
   "id": "d70023ff",
   "metadata": {},
   "outputs": [
    {
     "data": {
      "text/plain": [
       "TotalCharges\n",
       "<class 'float'>    100000\n",
       "Name: count, dtype: int64"
      ]
     },
     "execution_count": 6,
     "metadata": {},
     "output_type": "execute_result"
    }
   ],
   "source": [
    "df['TotalCharges'] = pd.to_numeric(df['TotalCharges'], errors='coerce') # errors='coerce': If a value cannot be converted, it becomes NaN\n",
    "df.TotalCharges.apply(type).value_counts()"
   ]
  },
  {
   "cell_type": "code",
   "execution_count": 7,
   "id": "5b3c2f04",
   "metadata": {},
   "outputs": [
    {
     "data": {
      "text/plain": [
       "CustomerID             0\n",
       "Gender             18213\n",
       "SeniorCitizen      18139\n",
       "Partner            18006\n",
       "Dependents         17997\n",
       "Tenure             17999\n",
       "PhoneService       17904\n",
       "InternetService    18421\n",
       "MonthlyCharges     18096\n",
       "TotalCharges       20591\n",
       "Churn                  0\n",
       "Timestamp          18243\n",
       "dtype: int64"
      ]
     },
     "execution_count": 7,
     "metadata": {},
     "output_type": "execute_result"
    }
   ],
   "source": [
    "df.isnull().sum()"
   ]
  },
  {
   "cell_type": "markdown",
   "id": "6b189232",
   "metadata": {},
   "source": [
    "Except columns 'CustomerID' & 'Churn', almost 1/5th of all other columns are filled with missing values. "
   ]
  },
  {
   "cell_type": "markdown",
   "id": "b4a8f4cb",
   "metadata": {},
   "source": [
    "### 1.3. Data Visualization"
   ]
  },
  {
   "cell_type": "markdown",
   "id": "8ded1b3e",
   "metadata": {},
   "source": [
    "#### 1.3.1 Visualizations for Numeric Features vs Churn"
   ]
  },
  {
   "cell_type": "code",
   "execution_count": 8,
   "id": "8e446e05",
   "metadata": {},
   "outputs": [
    {
     "data": {
      "text/plain": [
       "['SeniorCitizen', 'Tenure', 'MonthlyCharges', 'TotalCharges']"
      ]
     },
     "execution_count": 8,
     "metadata": {},
     "output_type": "execute_result"
    }
   ],
   "source": [
    "num_cols = list(df.select_dtypes(include='number').columns) # selecting numeric features\n",
    "num_cols"
   ]
  },
  {
   "cell_type": "code",
   "execution_count": 9,
   "id": "ecc165bc",
   "metadata": {},
   "outputs": [
    {
     "name": "stdout",
     "output_type": "stream",
     "text": [
      "SeniorCitizen 2\n",
      "Tenure 73\n",
      "MonthlyCharges 10199\n",
      "TotalCharges 74219\n"
     ]
    }
   ],
   "source": [
    "for col in num_cols:\n",
    "    print(col, df[col].nunique())"
   ]
  },
  {
   "cell_type": "markdown",
   "id": "6965ff42",
   "metadata": {},
   "source": [
    "'SeniorCitizen' is a binary categorical column as has only 2 unique values. So, we will remove it from numerical columns "
   ]
  },
  {
   "cell_type": "code",
   "execution_count": 10,
   "id": "20cad214",
   "metadata": {},
   "outputs": [
    {
     "data": {
      "text/plain": [
       "['Tenure', 'MonthlyCharges', 'TotalCharges']"
      ]
     },
     "execution_count": 10,
     "metadata": {},
     "output_type": "execute_result"
    }
   ],
   "source": [
    "num_cols.remove('SeniorCitizen')\n",
    "num_cols"
   ]
  },
  {
   "cell_type": "code",
   "execution_count": 11,
   "id": "0b6351a7",
   "metadata": {},
   "outputs": [
    {
     "data": {
      "image/png": "[encoded data removed]",
      "text/plain": [
       "<Figure size 800x400 with 1 Axes>"
      ]
     },
     "metadata": {},
     "output_type": "display_data"
    },
    {
     "data": {
      "image/png": "[encoded data removed]",
      "text/plain": [
       "<Figure size 800x400 with 1 Axes>"
      ]
     },
     "metadata": {},
     "output_type": "display_data"
    },
    {
     "data": {
      "image/png": "[encoded data removed]",
      "text/plain": [
       "<Figure size 800x400 with 1 Axes>"
      ]
     },
     "metadata": {},
     "output_type": "display_data"
    }
   ],
   "source": [
    "for col in num_cols:\n",
    "    plt.figure(figsize=(8, 4))\n",
    "    sns.boxplot(x='Churn', y=col, data=df)\n",
    "    plt.title(col +' vs Churn')\n",
    "    plt.show()"
   ]
  },
  {
   "cell_type": "markdown",
   "id": "d2fe6697",
   "metadata": {},
   "source": [
    "- 1st & 2nd boxplots do not have outliers\n",
    "- 3rd boxplot - 'TotalCharges vs Churn', has many outliers"
   ]
  },
  {
   "cell_type": "markdown",
   "id": "2ed2ae86",
   "metadata": {},
   "source": [
    "#### 1.3.2. Visualizations for Categorical Features vs Churn"
   ]
  },
  {
   "cell_type": "code",
   "execution_count": 12,
   "id": "5b42d54c",
   "metadata": {},
   "outputs": [
    {
     "data": {
      "image/png": "[encoded data removed]",
      "text/plain": [
       "<Figure size 640x480 with 1 Axes>"
      ]
     },
     "metadata": {},
     "output_type": "display_data"
    }
   ],
   "source": [
    "sns.countplot(x='SeniorCitizen', data=df)\n",
    "plt.title('Distribution of SeniorCitizen')\n",
    "plt.show()"
   ]
  },
  {
   "cell_type": "markdown",
   "id": "8c67416a",
   "metadata": {},
   "source": [
    "Above Count plot tells that only 1/8th of the customers are Senior Citizens."
   ]
  },
  {
   "cell_type": "code",
   "execution_count": 13,
   "id": "30590b72",
   "metadata": {},
   "outputs": [
    {
     "data": {
      "text/plain": [
       "['CustomerID',\n",
       " 'Gender',\n",
       " 'Partner',\n",
       " 'Dependents',\n",
       " 'PhoneService',\n",
       " 'InternetService',\n",
       " 'Churn',\n",
       " 'Timestamp']"
      ]
     },
     "execution_count": 13,
     "metadata": {},
     "output_type": "execute_result"
    }
   ],
   "source": [
    "cat_cols = list(df.select_dtypes(include='object').columns) # selecting categorical features\n",
    "cat_cols"
   ]
  },
  {
   "cell_type": "code",
   "execution_count": 14,
   "id": "ca130072",
   "metadata": {},
   "outputs": [
    {
     "name": "stdout",
     "output_type": "stream",
     "text": [
      "CustomerID 100000\n",
      "Gender 2\n",
      "Partner 2\n",
      "Dependents 2\n",
      "PhoneService 2\n",
      "InternetService 3\n",
      "Churn 2\n",
      "Timestamp 1095\n"
     ]
    }
   ],
   "source": [
    "for col in cat_cols:\n",
    "    print(col, df[col].nunique())"
   ]
  },
  {
   "cell_type": "markdown",
   "id": "ab85102e",
   "metadata": {},
   "source": [
    "'CustomerID' is all unique & 'Timestamp' has many unique values. So we won't consider them for visualization as that would result into many sub-categories."
   ]
  },
  {
   "cell_type": "code",
   "execution_count": 15,
   "id": "4cd83029",
   "metadata": {},
   "outputs": [
    {
     "data": {
      "text/plain": [
       "['Gender', 'Partner', 'Dependents', 'PhoneService', 'InternetService']"
      ]
     },
     "execution_count": 15,
     "metadata": {},
     "output_type": "execute_result"
    }
   ],
   "source": [
    "cat_cols.remove('CustomerID')\n",
    "cat_cols.remove('Timestamp')\n",
    "cat_cols.remove('Churn')\n",
    "cat_cols"
   ]
  },
  {
   "cell_type": "code",
   "execution_count": 16,
   "id": "09db0fd2",
   "metadata": {},
   "outputs": [
    {
     "data": {
      "image/png": "[encoded data removed]",
      "text/plain": [
       "<Figure size 800x400 with 1 Axes>"
      ]
     },
     "metadata": {},
     "output_type": "display_data"
    },
    {
     "data": {
      "image/png": "[encoded data removed]",
      "text/plain": [
       "<Figure size 800x400 with 1 Axes>"
      ]
     },
     "metadata": {},
     "output_type": "display_data"
    },
    {
     "data": {
      "image/png": "[encoded data removed]",
      "text/plain": [
       "<Figure size 800x400 with 1 Axes>"
      ]
     },
     "metadata": {},
     "output_type": "display_data"
    },
    {
     "data": {
      "image/png": "[encoded data removed]",
      "text/plain": [
       "<Figure size 800x400 with 1 Axes>"
      ]
     },
     "metadata": {},
     "output_type": "display_data"
    },
    {
     "data": {
      "image/png": "[encoded data removed]",
      "text/plain": [
       "<Figure size 800x400 with 1 Axes>"
      ]
     },
     "metadata": {},
     "output_type": "display_data"
    }
   ],
   "source": [
    "for col in cat_cols:\n",
    "    plt.figure(figsize=(8, 4))\n",
    "    sns.countplot(x=col, hue='Churn', data=df)\n",
    "    plt.title(f'Churn Distribution across {col}')\n",
    "    plt.xticks(rotation=45)\n",
    "    plt.show()"
   ]
  },
  {
   "cell_type": "markdown",
   "id": "049fdaae",
   "metadata": {},
   "source": [
    "- Gender & having a partner don't have any significant effect on customer churn.\n",
    "- Customers with dependents are less likely to leave than those without dependents.\n",
    "- Customers with phone service are more likely to leave than those without phone service.\n",
    "- Customers with 'Fiber optic' internet service are more likely to leave than those with 'DSL' or no internet service."
   ]
  },
  {
   "cell_type": "markdown",
   "id": "04412767",
   "metadata": {},
   "source": [
    "## Task 2 : Feature Engineering"
   ]
  },
  {
   "cell_type": "markdown",
   "id": "6968673e",
   "metadata": {},
   "source": [
    "We will create following 3 new columns: \n",
    "\n",
    "- ‘ServiceCount’, counting no. of services (Phone, Internet) subscribed by a customer. This will help us in further estimating the missing values of 'TotalCharges' based on it.\n",
    "\n",
    "- 'AvgMonthlySpend', to find the average monthly revenue for each customer by dividing 'TotalCharges' by 'Tenure'. This will help us better compare the revenue generated by each customer on a monthly basis.\n",
    "\n",
    "- 'TenureYears' to convert tenure in months to years. It will help in accurately imputing missing values in 'totalCharges'. By replacing a null value in TotalCharges with the median of its specific 'TenureYears' range. We can also easily compare how different customer groups behave instead of analyzing each customer's monthly data individually."
   ]
  },
  {
   "cell_type": "code",
   "execution_count": 17,
   "id": "c59b2c15",
   "metadata": {},
   "outputs": [],
   "source": [
    "df['ServiceCount'] = df[['PhoneService', 'InternetService']].notnull().sum(axis=1)"
   ]
  },
  {
   "cell_type": "code",
   "execution_count": 18,
   "id": "c45ea87a",
   "metadata": {},
   "outputs": [
    {
     "name": "stderr",
     "output_type": "stream",
     "text": [
      "C:\\Users\\palla\\AppData\\Local\\Temp\\ipykernel_34796\\1925461634.py:2: FutureWarning: A value is trying to be set on a copy of a DataFrame or Series through chained assignment using an inplace method.\n",
      "The behavior will change in pandas 3.0. This inplace method will never work because the intermediate object on which we are setting values always behaves as a copy.\n",
      "\n",
      "For example, when doing 'df[col].method(value, inplace=True)', try using 'df.method({col: value}, inplace=True)' or df[col] = df[col].method(value) instead, to perform the operation inplace on the original object.\n",
      "\n",
      "\n",
      "  df['Tenure'].fillna(0, inplace=True)\n"
     ]
    }
   ],
   "source": [
    "# Fill NaN values in the grouping columns first\n",
    "df['Tenure'].fillna(0, inplace=True)\n",
    "df['TenureYears'] = np.floor(df['Tenure'] / 12).astype(int)"
   ]
  },
  {
   "cell_type": "code",
   "execution_count": 19,
   "id": "4b448489",
   "metadata": {},
   "outputs": [],
   "source": [
    "# Calculate the median of TotalCharges for each combination of TenureGroup and ServiceCount\n",
    "median_charges = df.groupby(['TenureYears', 'ServiceCount'])['TotalCharges'].median().reset_index()\n",
    "\n",
    "# Iterate and impute missing 'TotalCharges' values\n",
    "for index, row in df[df['TotalCharges'].isnull()].iterrows():\n",
    "    tenure_group = row['TenureYears']\n",
    "    service_count = row['ServiceCount']\n",
    "\n",
    "    # Find the corresponding median value from the calculated medians\n",
    "    median_value = median_charges[(median_charges['TenureYears'] == tenure_group) &\n",
    "                                 (median_charges['ServiceCount'] == service_count)]['TotalCharges'].values\n",
    "    \n",
    "    # Fill the NaN if a median value exists\n",
    "    if len(median_value) > 0:\n",
    "        df.loc[index, 'TotalCharges'] = median_value[0]"
   ]
  },
  {
   "cell_type": "code",
   "execution_count": 20,
   "id": "3c60ade2",
   "metadata": {},
   "outputs": [],
   "source": [
    "# For records with a 0 tenure, the AvgMonthlySpend will be set to NaN.\n",
    "df['AvgMonthlySpend'] = np.where(df['Tenure'] > 0, df['TotalCharges'] / df['Tenure'], np.nan)"
   ]
  },
  {
   "cell_type": "code",
   "execution_count": 21,
   "id": "f2e22f4b",
   "metadata": {},
   "outputs": [
    {
     "data": {
      "text/html": [
       "<div>\n",
       "<style scoped>\n",
       "    .dataframe tbody tr th:only-of-type {\n",
       "        vertical-align: middle;\n",
       "    }\n",
       "\n",
       "    .dataframe tbody tr th {\n",
       "        vertical-align: top;\n",
       "    }\n",
       "\n",
       "    .dataframe thead th {\n",
       "        text-align: right;\n",
       "    }\n",
       "</style>\n",
       "<table border=\"1\" class=\"dataframe\">\n",
       "  <thead>\n",
       "    <tr style=\"text-align: right;\">\n",
       "      <th></th>\n",
       "      <th>CustomerID</th>\n",
       "      <th>Gender</th>\n",
       "      <th>SeniorCitizen</th>\n",
       "      <th>Partner</th>\n",
       "      <th>Dependents</th>\n",
       "      <th>Tenure</th>\n",
       "      <th>PhoneService</th>\n",
       "      <th>InternetService</th>\n",
       "      <th>MonthlyCharges</th>\n",
       "      <th>TotalCharges</th>\n",
       "      <th>Churn</th>\n",
       "      <th>Timestamp</th>\n",
       "      <th>ServiceCount</th>\n",
       "      <th>TenureYears</th>\n",
       "      <th>AvgMonthlySpend</th>\n",
       "    </tr>\n",
       "  </thead>\n",
       "  <tbody>\n",
       "    <tr>\n",
       "      <th>0</th>\n",
       "      <td>CUST000001</td>\n",
       "      <td>Male</td>\n",
       "      <td>0.0</td>\n",
       "      <td>Yes</td>\n",
       "      <td>Yes</td>\n",
       "      <td>26.0</td>\n",
       "      <td>Yes</td>\n",
       "      <td>Fiber optic</td>\n",
       "      <td>70.32</td>\n",
       "      <td>1994.70</td>\n",
       "      <td>No</td>\n",
       "      <td>2021-10-26</td>\n",
       "      <td>2</td>\n",
       "      <td>2</td>\n",
       "      <td>76.719231</td>\n",
       "    </tr>\n",
       "    <tr>\n",
       "      <th>1</th>\n",
       "      <td>CUST000002</td>\n",
       "      <td>Female</td>\n",
       "      <td>0.0</td>\n",
       "      <td>No</td>\n",
       "      <td>No</td>\n",
       "      <td>0.0</td>\n",
       "      <td>Yes</td>\n",
       "      <td>Fiber optic</td>\n",
       "      <td>47.88</td>\n",
       "      <td>2161.36</td>\n",
       "      <td>Yes</td>\n",
       "      <td>2022-04-03</td>\n",
       "      <td>2</td>\n",
       "      <td>0</td>\n",
       "      <td>NaN</td>\n",
       "    </tr>\n",
       "    <tr>\n",
       "      <th>2</th>\n",
       "      <td>CUST000003</td>\n",
       "      <td>Male</td>\n",
       "      <td>0.0</td>\n",
       "      <td>No</td>\n",
       "      <td>Yes</td>\n",
       "      <td>0.0</td>\n",
       "      <td>Yes</td>\n",
       "      <td>NaN</td>\n",
       "      <td>99.91</td>\n",
       "      <td>4224.95</td>\n",
       "      <td>Yes</td>\n",
       "      <td>2021-05-03</td>\n",
       "      <td>1</td>\n",
       "      <td>0</td>\n",
       "      <td>NaN</td>\n",
       "    </tr>\n",
       "    <tr>\n",
       "      <th>3</th>\n",
       "      <td>CUST000004</td>\n",
       "      <td>Male</td>\n",
       "      <td>NaN</td>\n",
       "      <td>No</td>\n",
       "      <td>No</td>\n",
       "      <td>44.0</td>\n",
       "      <td>Yes</td>\n",
       "      <td>DSL</td>\n",
       "      <td>29.44</td>\n",
       "      <td>1340.09</td>\n",
       "      <td>No</td>\n",
       "      <td>2021-08-18</td>\n",
       "      <td>2</td>\n",
       "      <td>3</td>\n",
       "      <td>30.456591</td>\n",
       "    </tr>\n",
       "    <tr>\n",
       "      <th>4</th>\n",
       "      <td>CUST000005</td>\n",
       "      <td>NaN</td>\n",
       "      <td>0.0</td>\n",
       "      <td>No</td>\n",
       "      <td>Yes</td>\n",
       "      <td>29.0</td>\n",
       "      <td>NaN</td>\n",
       "      <td>Fiber optic</td>\n",
       "      <td>78.82</td>\n",
       "      <td>2280.05</td>\n",
       "      <td>No</td>\n",
       "      <td>2022-02-17</td>\n",
       "      <td>1</td>\n",
       "      <td>2</td>\n",
       "      <td>78.622414</td>\n",
       "    </tr>\n",
       "  </tbody>\n",
       "</table>\n",
       "</div>"
      ],
      "text/plain": [
       "   CustomerID  Gender  SeniorCitizen Partner Dependents  Tenure PhoneService  \\\n",
       "0  CUST000001    Male            0.0     Yes        Yes    26.0          Yes   \n",
       "1  CUST000002  Female            0.0      No         No     0.0          Yes   \n",
       "2  CUST000003    Male            0.0      No        Yes     0.0          Yes   \n",
       "3  CUST000004    Male            NaN      No         No    44.0          Yes   \n",
       "4  CUST000005     NaN            0.0      No        Yes    29.0          NaN   \n",
       "\n",
       "  InternetService  MonthlyCharges  TotalCharges Churn   Timestamp  \\\n",
       "0     Fiber optic           70.32       1994.70    No  2021-10-26   \n",
       "1     Fiber optic           47.88       2161.36   Yes  2022-04-03   \n",
       "2             NaN           99.91       4224.95   Yes  2021-05-03   \n",
       "3             DSL           29.44       1340.09    No  2021-08-18   \n",
       "4     Fiber optic           78.82       2280.05    No  2022-02-17   \n",
       "\n",
       "   ServiceCount  TenureYears  AvgMonthlySpend  \n",
       "0             2            2        76.719231  \n",
       "1             2            0              NaN  \n",
       "2             1            0              NaN  \n",
       "3             2            3        30.456591  \n",
       "4             1            2        78.622414  "
      ]
     },
     "execution_count": 21,
     "metadata": {},
     "output_type": "execute_result"
    }
   ],
   "source": [
    "df.head()"
   ]
  },
  {
   "cell_type": "markdown",
   "id": "a35c142f",
   "metadata": {},
   "source": [
    "## Task 3 : Building the End-to-End Pipeline"
   ]
  },
  {
   "cell_type": "markdown",
   "id": "af2ad95e",
   "metadata": {},
   "source": [
    "### 3.1. Define Preprocessing Steps"
   ]
  },
  {
   "cell_type": "code",
   "execution_count": 22,
   "id": "87a12fd3",
   "metadata": {},
   "outputs": [
    {
     "data": {
      "text/html": [
       "<div>\n",
       "<style scoped>\n",
       "    .dataframe tbody tr th:only-of-type {\n",
       "        vertical-align: middle;\n",
       "    }\n",
       "\n",
       "    .dataframe tbody tr th {\n",
       "        vertical-align: top;\n",
       "    }\n",
       "\n",
       "    .dataframe thead th {\n",
       "        text-align: right;\n",
       "    }\n",
       "</style>\n",
       "<table border=\"1\" class=\"dataframe\">\n",
       "  <thead>\n",
       "    <tr style=\"text-align: right;\">\n",
       "      <th></th>\n",
       "      <th>CustomerID</th>\n",
       "      <th>Gender</th>\n",
       "      <th>SeniorCitizen</th>\n",
       "      <th>Partner</th>\n",
       "      <th>Dependents</th>\n",
       "      <th>Tenure</th>\n",
       "      <th>PhoneService</th>\n",
       "      <th>InternetService</th>\n",
       "      <th>MonthlyCharges</th>\n",
       "      <th>TotalCharges</th>\n",
       "      <th>Churn</th>\n",
       "      <th>Timestamp</th>\n",
       "      <th>ServiceCount</th>\n",
       "      <th>TenureYears</th>\n",
       "      <th>AvgMonthlySpend</th>\n",
       "    </tr>\n",
       "  </thead>\n",
       "  <tbody>\n",
       "    <tr>\n",
       "      <th>0</th>\n",
       "      <td>CUST000001</td>\n",
       "      <td>Male</td>\n",
       "      <td>0.0</td>\n",
       "      <td>Yes</td>\n",
       "      <td>Yes</td>\n",
       "      <td>26.0</td>\n",
       "      <td>Yes</td>\n",
       "      <td>Fiber optic</td>\n",
       "      <td>70.32</td>\n",
       "      <td>1994.70</td>\n",
       "      <td>No</td>\n",
       "      <td>2021-10-26</td>\n",
       "      <td>2</td>\n",
       "      <td>2</td>\n",
       "      <td>76.719231</td>\n",
       "    </tr>\n",
       "    <tr>\n",
       "      <th>1</th>\n",
       "      <td>CUST000002</td>\n",
       "      <td>Female</td>\n",
       "      <td>0.0</td>\n",
       "      <td>No</td>\n",
       "      <td>No</td>\n",
       "      <td>0.0</td>\n",
       "      <td>Yes</td>\n",
       "      <td>Fiber optic</td>\n",
       "      <td>47.88</td>\n",
       "      <td>2161.36</td>\n",
       "      <td>Yes</td>\n",
       "      <td>2022-04-03</td>\n",
       "      <td>2</td>\n",
       "      <td>0</td>\n",
       "      <td>NaN</td>\n",
       "    </tr>\n",
       "    <tr>\n",
       "      <th>2</th>\n",
       "      <td>CUST000003</td>\n",
       "      <td>Male</td>\n",
       "      <td>0.0</td>\n",
       "      <td>No</td>\n",
       "      <td>Yes</td>\n",
       "      <td>0.0</td>\n",
       "      <td>Yes</td>\n",
       "      <td>NaN</td>\n",
       "      <td>99.91</td>\n",
       "      <td>4224.95</td>\n",
       "      <td>Yes</td>\n",
       "      <td>2021-05-03</td>\n",
       "      <td>1</td>\n",
       "      <td>0</td>\n",
       "      <td>NaN</td>\n",
       "    </tr>\n",
       "    <tr>\n",
       "      <th>3</th>\n",
       "      <td>CUST000004</td>\n",
       "      <td>Male</td>\n",
       "      <td>NaN</td>\n",
       "      <td>No</td>\n",
       "      <td>No</td>\n",
       "      <td>44.0</td>\n",
       "      <td>Yes</td>\n",
       "      <td>DSL</td>\n",
       "      <td>29.44</td>\n",
       "      <td>1340.09</td>\n",
       "      <td>No</td>\n",
       "      <td>2021-08-18</td>\n",
       "      <td>2</td>\n",
       "      <td>3</td>\n",
       "      <td>30.456591</td>\n",
       "    </tr>\n",
       "    <tr>\n",
       "      <th>4</th>\n",
       "      <td>CUST000005</td>\n",
       "      <td>NaN</td>\n",
       "      <td>0.0</td>\n",
       "      <td>No</td>\n",
       "      <td>Yes</td>\n",
       "      <td>29.0</td>\n",
       "      <td>NaN</td>\n",
       "      <td>Fiber optic</td>\n",
       "      <td>78.82</td>\n",
       "      <td>2280.05</td>\n",
       "      <td>No</td>\n",
       "      <td>2022-02-17</td>\n",
       "      <td>1</td>\n",
       "      <td>2</td>\n",
       "      <td>78.622414</td>\n",
       "    </tr>\n",
       "  </tbody>\n",
       "</table>\n",
       "</div>"
      ],
      "text/plain": [
       "   CustomerID  Gender  SeniorCitizen Partner Dependents  Tenure PhoneService  \\\n",
       "0  CUST000001    Male            0.0     Yes        Yes    26.0          Yes   \n",
       "1  CUST000002  Female            0.0      No         No     0.0          Yes   \n",
       "2  CUST000003    Male            0.0      No        Yes     0.0          Yes   \n",
       "3  CUST000004    Male            NaN      No         No    44.0          Yes   \n",
       "4  CUST000005     NaN            0.0      No        Yes    29.0          NaN   \n",
       "\n",
       "  InternetService  MonthlyCharges  TotalCharges Churn   Timestamp  \\\n",
       "0     Fiber optic           70.32       1994.70    No  2021-10-26   \n",
       "1     Fiber optic           47.88       2161.36   Yes  2022-04-03   \n",
       "2             NaN           99.91       4224.95   Yes  2021-05-03   \n",
       "3             DSL           29.44       1340.09    No  2021-08-18   \n",
       "4     Fiber optic           78.82       2280.05    No  2022-02-17   \n",
       "\n",
       "   ServiceCount  TenureYears  AvgMonthlySpend  \n",
       "0             2            2        76.719231  \n",
       "1             2            0              NaN  \n",
       "2             1            0              NaN  \n",
       "3             2            3        30.456591  \n",
       "4             1            2        78.622414  "
      ]
     },
     "execution_count": 22,
     "metadata": {},
     "output_type": "execute_result"
    }
   ],
   "source": [
    "df.head()"
   ]
  },
  {
   "cell_type": "markdown",
   "id": "3e9c6c97",
   "metadata": {},
   "source": [
    "On the basis of earlier data analysis and the new columns made, we will drop the following columns:\n",
    "- Gender\n",
    "- Partner\n",
    "- Tenure\n",
    "- PhoneService\n",
    "- TotalCharges\n",
    "- Timestamp"
   ]
  },
  {
   "cell_type": "code",
   "execution_count": 23,
   "id": "a8089ed7",
   "metadata": {},
   "outputs": [],
   "source": [
    "columns_to_drop = ['Gender', 'Partner', 'Tenure', 'PhoneService', 'TotalCharges', 'Timestamp']\n",
    "\n",
    "# Drop the columns from the DataFrame\n",
    "df.drop(columns=columns_to_drop, inplace=True)"
   ]
  },
  {
   "cell_type": "code",
   "execution_count": 24,
   "id": "8bc89c93",
   "metadata": {},
   "outputs": [
    {
     "data": {
      "text/html": [
       "<div>\n",
       "<style scoped>\n",
       "    .dataframe tbody tr th:only-of-type {\n",
       "        vertical-align: middle;\n",
       "    }\n",
       "\n",
       "    .dataframe tbody tr th {\n",
       "        vertical-align: top;\n",
       "    }\n",
       "\n",
       "    .dataframe thead th {\n",
       "        text-align: right;\n",
       "    }\n",
       "</style>\n",
       "<table border=\"1\" class=\"dataframe\">\n",
       "  <thead>\n",
       "    <tr style=\"text-align: right;\">\n",
       "      <th></th>\n",
       "      <th>CustomerID</th>\n",
       "      <th>SeniorCitizen</th>\n",
       "      <th>Dependents</th>\n",
       "      <th>InternetService</th>\n",
       "      <th>MonthlyCharges</th>\n",
       "      <th>Churn</th>\n",
       "      <th>ServiceCount</th>\n",
       "      <th>TenureYears</th>\n",
       "      <th>AvgMonthlySpend</th>\n",
       "    </tr>\n",
       "  </thead>\n",
       "  <tbody>\n",
       "    <tr>\n",
       "      <th>0</th>\n",
       "      <td>CUST000001</td>\n",
       "      <td>0.0</td>\n",
       "      <td>Yes</td>\n",
       "      <td>Fiber optic</td>\n",
       "      <td>70.32</td>\n",
       "      <td>No</td>\n",
       "      <td>2</td>\n",
       "      <td>2</td>\n",
       "      <td>76.719231</td>\n",
       "    </tr>\n",
       "    <tr>\n",
       "      <th>1</th>\n",
       "      <td>CUST000002</td>\n",
       "      <td>0.0</td>\n",
       "      <td>No</td>\n",
       "      <td>Fiber optic</td>\n",
       "      <td>47.88</td>\n",
       "      <td>Yes</td>\n",
       "      <td>2</td>\n",
       "      <td>0</td>\n",
       "      <td>NaN</td>\n",
       "    </tr>\n",
       "    <tr>\n",
       "      <th>2</th>\n",
       "      <td>CUST000003</td>\n",
       "      <td>0.0</td>\n",
       "      <td>Yes</td>\n",
       "      <td>NaN</td>\n",
       "      <td>99.91</td>\n",
       "      <td>Yes</td>\n",
       "      <td>1</td>\n",
       "      <td>0</td>\n",
       "      <td>NaN</td>\n",
       "    </tr>\n",
       "    <tr>\n",
       "      <th>3</th>\n",
       "      <td>CUST000004</td>\n",
       "      <td>NaN</td>\n",
       "      <td>No</td>\n",
       "      <td>DSL</td>\n",
       "      <td>29.44</td>\n",
       "      <td>No</td>\n",
       "      <td>2</td>\n",
       "      <td>3</td>\n",
       "      <td>30.456591</td>\n",
       "    </tr>\n",
       "    <tr>\n",
       "      <th>4</th>\n",
       "      <td>CUST000005</td>\n",
       "      <td>0.0</td>\n",
       "      <td>Yes</td>\n",
       "      <td>Fiber optic</td>\n",
       "      <td>78.82</td>\n",
       "      <td>No</td>\n",
       "      <td>1</td>\n",
       "      <td>2</td>\n",
       "      <td>78.622414</td>\n",
       "    </tr>\n",
       "  </tbody>\n",
       "</table>\n",
       "</div>"
      ],
      "text/plain": [
       "   CustomerID  SeniorCitizen Dependents InternetService  MonthlyCharges Churn  \\\n",
       "0  CUST000001            0.0        Yes     Fiber optic           70.32    No   \n",
       "1  CUST000002            0.0         No     Fiber optic           47.88   Yes   \n",
       "2  CUST000003            0.0        Yes             NaN           99.91   Yes   \n",
       "3  CUST000004            NaN         No             DSL           29.44    No   \n",
       "4  CUST000005            0.0        Yes     Fiber optic           78.82    No   \n",
       "\n",
       "   ServiceCount  TenureYears  AvgMonthlySpend  \n",
       "0             2            2        76.719231  \n",
       "1             2            0              NaN  \n",
       "2             1            0              NaN  \n",
       "3             2            3        30.456591  \n",
       "4             1            2        78.622414  "
      ]
     },
     "execution_count": 24,
     "metadata": {},
     "output_type": "execute_result"
    }
   ],
   "source": [
    "df.head()"
   ]
  },
  {
   "cell_type": "code",
   "execution_count": 25,
   "id": "b80c5221",
   "metadata": {},
   "outputs": [
    {
     "ename": "NameError",
     "evalue": "name 'SimpleImputer' is not defined",
     "output_type": "error",
     "traceback": [
      "\u001b[31m---------------------------------------------------------------------------\u001b[39m",
      "\u001b[31mNameError\u001b[39m                                 Traceback (most recent call last)",
      "\u001b[36mCell\u001b[39m\u001b[36m \u001b[39m\u001b[32mIn[25]\u001b[39m\u001b[32m, line 6\u001b[39m\n\u001b[32m      2\u001b[39m categorical_features = [\u001b[33m'\u001b[39m\u001b[33mDependents\u001b[39m\u001b[33m'\u001b[39m, \u001b[33m'\u001b[39m\u001b[33mInternetService\u001b[39m\u001b[33m'\u001b[39m, \u001b[33m'\u001b[39m\u001b[33mSeniorCitizen\u001b[39m\u001b[33m'\u001b[39m]\n\u001b[32m      3\u001b[39m \u001b[38;5;66;03m# Although SeniorCitizen is a binary categorical feature, Treating it as a categorical feature and applying a OneHotEncoder ensures the model understands it as a distinct group rather than a numerical value.\u001b[39;00m\n\u001b[32m      4\u001b[39m \n\u001b[32m      5\u001b[39m \u001b[38;5;66;03m# --- Create Preprocessing Pipelines for each data type ---\u001b[39;00m\n\u001b[32m----> \u001b[39m\u001b[32m6\u001b[39m numeric_pipeline = Pipeline([(\u001b[33m\"\u001b[39m\u001b[33mimputer\u001b[39m\u001b[33m\"\u001b[39m, \u001b[43mSimpleImputer\u001b[49m(strategy=\u001b[33m\"\u001b[39m\u001b[33mmedian\u001b[39m\u001b[33m\"\u001b[39m)), (\u001b[33m\"\u001b[39m\u001b[33mscaler\u001b[39m\u001b[33m\"\u001b[39m, StandardScaler())])\n\u001b[32m      7\u001b[39m categorical_pipeline = Pipeline([(\u001b[33m\"\u001b[39m\u001b[33mimputer\u001b[39m\u001b[33m\"\u001b[39m, SimpleImputer(strategy=\u001b[33m\"\u001b[39m\u001b[33mmost_frequent\u001b[39m\u001b[33m\"\u001b[39m)), (\u001b[33m\"\u001b[39m\u001b[33mohe\u001b[39m\u001b[33m\"\u001b[39m, OneHotEncoder(handle_unknown=\u001b[33m\"\u001b[39m\u001b[33mignore\u001b[39m\u001b[33m\"\u001b[39m, sparse_output=\u001b[38;5;28;01mFalse\u001b[39;00m))])\n\u001b[32m      9\u001b[39m \u001b[38;5;66;03m# --- Combine all preprocessors into a ColumnTransformer ---\u001b[39;00m\n",
      "\u001b[31mNameError\u001b[39m: name 'SimpleImputer' is not defined"
     ]
    }
   ],
   "source": [
    "\n",
    "numeric_features = ['MonthlyCharges', 'ServiceCount', 'TenureYears', 'AvgMonthlySpend']\n",
    "categorical_features = ['Dependents', 'InternetService', 'SeniorCitizen']\n",
    "# Although SeniorCitizen is a binary categorical feature, Treating it as a categorical feature and applying a OneHotEncoder ensures the model understands it as a distinct group rather than a numerical value.\n",
    "\n",
    "# --- Create Preprocessing Pipelines for each data type ---\n",
    "numeric_pipeline = Pipeline([(\"imputer\", SimpleImputer(strategy=\"median\")), (\"scaler\", StandardScaler())])\n",
    "categorical_pipeline = Pipeline([(\"imputer\", SimpleImputer(strategy=\"most_frequent\")), (\"ohe\", OneHotEncoder(handle_unknown=\"ignore\", sparse_output=False))])\n",
    "\n",
    "# --- Combine all preprocessors into a ColumnTransformer ---\n",
    "preprocessor = ColumnTransformer([\n",
    "    (\"num\", numeric_pipeline, numeric_features),\n",
    "    (\"cat\", categorical_pipeline, categorical_features)\n",
    "])"
   ]
  },
  {
   "cell_type": "markdown",
   "id": "8f0d4baa",
   "metadata": {},
   "source": [
    "### 3.2. Integrate with Pipeline"
   ]
  },
  {
   "cell_type": "code",
   "execution_count": null,
   "id": "cfe113ce",
   "metadata": {},
   "outputs": [],
   "source": [
    "\n",
    "target = 'Churn'\n",
    "y = df[target]\n",
    "X = df.drop(columns=[target, 'CustomerID'])\n",
    "\n",
    "X_train, X_test, y_train, y_test = train_test_split(X, y, test_size=0.2, random_state=42)"
   ]
  },
  {
   "cell_type": "code",
   "execution_count": null,
   "id": "82586558",
   "metadata": {},
   "outputs": [
    {
     "name": "stdout",
     "output_type": "stream",
     "text": [
      "Training the pipeline...\n",
      "Pipeline training complete!\n"
     ]
    }
   ],
   "source": [
    "\n",
    "model_pipeline = Pipeline(steps=[\n",
    "    ('preprocessor', preprocessor),\n",
    "    ('classifier', LogisticRegression(random_state=42))\n",
    "])\n",
    "\n",
    "# --- Train the entire pipeline on the training data ---\n",
    "print(\"Training the pipeline...\")\n",
    "model_pipeline.fit(X_train, y_train)\n",
    "print(\"Pipeline training complete!\")"
   ]
  },
  {
   "cell_type": "markdown",
   "id": "d436cc06",
   "metadata": {},
   "source": [
    "## Task 4 : Model Selection and Hyperparameter Tuning"
   ]
  },
  {
   "cell_type": "markdown",
   "id": "1d237aa7",
   "metadata": {},
   "source": [
    "### 4.1. Choose Models "
   ]
  },
  {
   "cell_type": "markdown",
   "id": "6efff4a6",
   "metadata": {},
   "source": [
    "We'll use  following 3 models for predicting cutomer churn\n",
    "- Logistic Regression\n",
    "    - Simple to implement and easy to interpret.\n",
    "    - Helps understand how each factor influences churn.\n",
    "\n",
    "- Random Forest Classifier\n",
    "    - Works well with both numeric and categorical data without heavy preprocessing.\n",
    "    - Captures complex patterns and relationships in the data.\n",
    "\n",
    "- Gradient Boosting Classifier (XGBoost or similar)\n",
    "    - Provides high accuracy by learning from previous mistakes.\n",
    "    - Handles missing data and reduces overfitting, making it reliable for real-world datasets.\n",
    "\n",
    "These models are suitable for churn prediction because customer behavior is influenced by many factors, and these models can capture both simple and complex relationships."
   ]
  },
  {
   "cell_type": "code",
   "execution_count": null,
   "id": "8b4a75d0",
   "metadata": {},
   "outputs": [],
   "source": [
    "\n",
    "grids = {\n",
    "    \"LR\": (\n",
    "        LogisticRegression(random_state=42, solver='liblinear'),\n",
    "        {\n",
    "            \"reg__C\": [0.1, 1, 10],\n",
    "            \"reg__penalty\": [\"l1\", \"l2\"]\n",
    "        }\n",
    "    ),\n",
    "    \"RF\": (\n",
    "        RandomForestClassifier(random_state=42, class_weight='balanced'),\n",
    "        {\n",
    "            \"reg__n_estimators\": [100, 200],\n",
    "            \"reg__max_depth\": [None, 10, 20]\n",
    "        }\n",
    "    ),\n",
    "    \"GB\": (\n",
    "        GradientBoostingClassifier(random_state=42),\n",
    "        {\n",
    "            \"reg__n_estimators\": [100, 200],\n",
    "            \"reg__learning_rate\": [0.05, 0.1],\n",
    "            \"reg__max_depth\": [3, 5]\n",
    "        }\n",
    "    )\n",
    "}\n"
   ]
  },
  {
   "cell_type": "code",
   "execution_count": null,
   "id": "88b259aa",
   "metadata": {},
   "outputs": [
    {
     "name": "stdout",
     "output_type": "stream",
     "text": [
      "Fitting 3 folds for each of 6 candidates, totalling 18 fits\n",
      "LR → Best F1 Weighted Score: 0.6295\n",
      "   Best Parameters: {'reg__C': 0.1, 'reg__penalty': 'l1'} \n",
      "\n",
      "Fitting 3 folds for each of 6 candidates, totalling 18 fits\n",
      "RF → Best F1 Weighted Score: 0.6302\n",
      "   Best Parameters: {'reg__max_depth': None, 'reg__n_estimators': 200} \n",
      "\n",
      "Fitting 3 folds for each of 8 candidates, totalling 24 fits\n",
      "GB → Best F1 Weighted Score: 0.6303\n",
      "   Best Parameters: {'reg__learning_rate': 0.1, 'reg__max_depth': 5, 'reg__n_estimators': 200} \n",
      "\n"
     ]
    }
   ],
   "source": [
    "\n",
    "searches = {}\n",
    "\n",
    "for name, (mdl, params) in grids.items():\n",
    "    pipe = Pipeline([\n",
    "        (\"prep\", preprocessor),  \n",
    "        (\"reg\", mdl)              \n",
    "    ])\n",
    "    \n",
    "    gs = GridSearchCV(\n",
    "        estimator=pipe,\n",
    "        param_grid=params,\n",
    "        cv=3,\n",
    "        scoring=\"f1_weighted\",   # appropriate for imbalanced classification problems\n",
    "        n_jobs=-1,\n",
    "        verbose=1\n",
    "    )\n",
    "    \n",
    "    gs.fit(X_train, y_train)\n",
    "    \n",
    "    # Store the search result\n",
    "    searches[name] = gs\n",
    "    \n",
    "    # Print the best score and best parameters\n",
    "    print(f\"{name} → Best F1 Weighted Score: {gs.best_score_:.4f}\")\n",
    "    print(\"   Best Parameters:\", gs.best_params_, \"\\n\")\n"
   ]
  },
  {
   "cell_type": "markdown",
   "id": "5e69e7b0",
   "metadata": {},
   "source": [
    "### 4.2. Hyperparameter Tuning"
   ]
  },
  {
   "cell_type": "code",
   "execution_count": null,
   "id": "4c99c32e",
   "metadata": {},
   "outputs": [
    {
     "name": "stdout",
     "output_type": "stream",
     "text": [
      "Best Model: GB\n",
      "F1 Score    : 0.627\n",
      "ROC AUC     : 0.504\n"
     ]
    }
   ],
   "source": [
    "\n",
    "# Pick the best model based on the highest F1 Weighted score\n",
    "best_name, best_gs = max(searches.items(), key=lambda kv: kv[1].best_score_)\n",
    "best_model = best_gs.best_estimator_\n",
    "\n",
    "# Predict on test data\n",
    "y_pred = best_model.predict(X_test)\n",
    "\n",
    "# For ROC AUC, we need prediction probabilities\n",
    "y_proba = best_model.predict_proba(X_test)[:, 1]  # Probability for class '1'\n",
    "\n",
    "# Report classification metrics\n",
    "print(\"Best Model:\", best_name)\n",
    "print(f\"F1 Score    : {f1_score(y_test, y_pred, average='weighted'):.3f}\")\n",
    "print(f\"ROC AUC     : {roc_auc_score(y_test, y_proba):.3f}\")\n"
   ]
  },
  {
   "cell_type": "markdown",
   "id": "7d2ece5f",
   "metadata": {},
   "source": [
    "## Task 5 : Handling Class Imbalance"
   ]
  },
  {
   "cell_type": "code",
   "execution_count": null,
   "id": "6f90bc9e",
   "metadata": {},
   "outputs": [
    {
     "data": {
      "text/plain": [
       "Churn\n",
       "No     73956\n",
       "Yes    26044\n",
       "Name: count, dtype: int64"
      ]
     },
     "execution_count": 67,
     "metadata": {},
     "output_type": "execute_result"
    }
   ],
   "source": [
    "df.Churn.value_counts()"
   ]
  },
  {
   "cell_type": "markdown",
   "id": "e6562fda",
   "metadata": {},
   "source": [
    "Only 1/4th of values are 'No' in 'Churn' column, indicating class imbalance."
   ]
  },
  {
   "cell_type": "markdown",
   "id": "8240dd4c",
   "metadata": {},
   "source": [
    "### 5.1. Implement a Strategy"
   ]
  },
  {
   "cell_type": "markdown",
   "id": "f12ff68c",
   "metadata": {},
   "source": [
    "We will do Resampling using SMOTE, which is supported by Gradient Boosting Classifier."
   ]
  },
  {
   "cell_type": "code",
   "execution_count": null,
   "id": "b8778741",
   "metadata": {},
   "outputs": [
    {
     "name": "stdout",
     "output_type": "stream",
     "text": [
      "F1 Weighted Score with SMOTE: 0.6350968075198363\n"
     ]
    }
   ],
   "source": [
    "\n",
    "pipeline_smote = Pipeline([\n",
    "    ('preprocessing', preprocessor),   # your preprocessing steps\n",
    "    ('smote', SMOTE(sampling_strategy=0.8, k_neighbors=40, random_state=42)), # oversampling the minority class\n",
    "    ('classifier', GradientBoostingClassifier(random_state=42))\n",
    "])\n",
    "# Evaluate using cross-validation\n",
    "scores_smote = cross_val_score(pipeline_smote, X_train, y_train, cv=5, scoring='f1_weighted')\n",
    "\n",
    "print(\"F1 Weighted Score with SMOTE:\", scores_smote.mean())"
   ]
  },
  {
   "cell_type": "markdown",
   "id": "0e57f666",
   "metadata": {},
   "source": [
    "### 5.2. Compare and Conclude"
   ]
  },
  {
   "cell_type": "code",
   "execution_count": null,
   "id": "83862253",
   "metadata": {},
   "outputs": [
    {
     "name": "stdout",
     "output_type": "stream",
     "text": [
      "F1 Weighted Score without imbalance handling: 0.6295546510149457\n"
     ]
    }
   ],
   "source": [
    "pipeline = Pipeline([\n",
    "    ('preprocessing', preprocessor),\n",
    "    ('classifier', GradientBoostingClassifier(random_state=42))\n",
    "])\n",
    "\n",
    "scores = cross_val_score(pipeline, X_train, y_train, cv=5, scoring='f1_weighted')\n",
    "print(\"F1 Weighted Score without imbalance handling:\", scores.mean())"
   ]
  },
  {
   "cell_type": "markdown",
   "id": "adff43f5",
   "metadata": {},
   "source": [
    "We can observe that our model's performance has improved on applying class imbalance statergy. SMOTE (Synthetic Minority Oversampling Technique) creates synthetic samples for the minority class so that both classes are balanced during training."
   ]
  },
  {
   "cell_type": "markdown",
   "id": "3e2aec10",
   "metadata": {},
   "source": [
    "## Task 6 : Final Evaluation and Interpretation"
   ]
  },
  {
   "cell_type": "markdown",
   "id": "43c6f395",
   "metadata": {},
   "source": [
    "### 6.1. Test Set Evaluation"
   ]
  },
  {
   "cell_type": "code",
   "execution_count": null,
   "id": "6f386386",
   "metadata": {},
   "outputs": [],
   "source": [
    "\n",
    "pipeline_smote.fit(X_train, y_train)\n",
    "\n",
    "# Predict on the test set\n",
    "y_pred = pipeline_smote.predict(X_test)\n",
    "y_proba = pipeline_smote.predict_proba(X_test)[:, 1]  # For ROC AUC"
   ]
  },
  {
   "cell_type": "markdown",
   "id": "ce3468f9",
   "metadata": {},
   "source": [
    "### 6.2. Metrics Report"
   ]
  },
  {
   "cell_type": "code",
   "execution_count": null,
   "id": "a83a1767",
   "metadata": {},
   "outputs": [
    {
     "name": "stdout",
     "output_type": "stream",
     "text": [
      "Precision: 0.6118284144467213\n",
      "Recall   : 0.72605\n",
      "F1 Score : 0.6310874389926495\n",
      "ROC AUC  : 0.5044778906884344\n",
      "\n",
      "Classification Report:\n",
      "\n",
      "              precision    recall  f1-score   support\n",
      "\n",
      "          No       0.74      0.98      0.84     14753\n",
      "         Yes       0.26      0.02      0.04      5247\n",
      "\n",
      "    accuracy                           0.73     20000\n",
      "   macro avg       0.50      0.50      0.44     20000\n",
      "weighted avg       0.61      0.73      0.63     20000\n",
      "\n"
     ]
    },
    {
     "data": {
      "image/png": "[encoded data removed]",
      "text/plain": [
       "<Figure size 800x600 with 2 Axes>"
      ]
     },
     "metadata": {},
     "output_type": "display_data"
    }
   ],
   "source": [
    "\n",
    "print(\"Precision:\", precision_score(y_test, y_pred, average='weighted'))\n",
    "print(\"Recall   :\", recall_score(y_test, y_pred, average='weighted'))\n",
    "print(\"F1 Score :\", f1_score(y_test, y_pred, average='weighted'))\n",
    "print(\"ROC AUC  :\", roc_auc_score(y_test, y_proba))\n",
    "\n",
    "# Classification report\n",
    "print(\"\\nClassification Report:\\n\")\n",
    "print(classification_report(y_test, y_pred))\n",
    "\n",
    "# Confusion matrix plot\n",
    "cm = confusion_matrix(y_test, y_pred)\n",
    "plt.figure(figsize=(8,6))\n",
    "sns.heatmap(cm, annot=True, fmt='d', cmap='Blues')\n",
    "plt.title(\"Confusion Matrix\")\n",
    "plt.xlabel(\"Predicted\")\n",
    "plt.ylabel(\"Actual\")\n",
    "plt.show()\n"
   ]
  },
  {
   "cell_type": "markdown",
   "id": "6549f1d0",
   "metadata": {},
   "source": [
    "### 6.3. Interpretation"
   ]
  },
  {
   "cell_type": "markdown",
   "id": "378941d1",
   "metadata": {},
   "source": [
    "In above confusion matrix,\n",
    "- False Positive (FP) means predicting a customer would churn, but they stayed.\n",
    "\n",
    "- False Negative (FN) means predicting a customer would stay, but they churned. Here, his \n",
    "\n",
    "False Negatives are worse because in case of FP, business might waste resources trying to retain them. But in case of FN, business missed an opportunity to prevent losing a customer. Here, they lost both revenue and reputation. The situation could have been avoided till a great extent if necessary retention campaigns had been applied in time."
   ]
  },
  {
   "cell_type": "code",
   "execution_count": null,
   "id": "6dfcd3e6",
   "metadata": {},
   "outputs": [
    {
     "data": {
      "image/png": "[encoded data removed]",
      "text/plain": [
       "<Figure size 1000x600 with 1 Axes>"
      ]
     },
     "metadata": {},
     "output_type": "display_data"
    }
   ],
   "source": [
    "clf = pipeline_smote.named_steps['classifier']\n",
    "importances = clf.feature_importances_\n",
    "feature_names = preprocessor.get_feature_names_out()\n",
    "indices = np.argsort(importances)[::-1][:10]\n",
    "\n",
    "plt.figure(figsize=(10,6))\n",
    "sns.barplot(x=importances[indices], y=feature_names[indices])\n",
    "plt.title(\"Top 10 Important Features for Customer Churn\")\n",
    "plt.xlabel(\"Importance Score\")\n",
    "plt.ylabel(\"Feature\")\n",
    "plt.show()"
   ]
  },
  {
   "cell_type": "markdown",
   "id": "619e433c",
   "metadata": {},
   "source": [
    "From above bar plot, we can observe that following are the main drivers of customer churn:\n",
    "- High tenure : longer-tenured customers are less likely to churn.\n",
    "- Monthly charges : higher charges may increase churn risk.\n",
    "- Age group : Senior citizens are less likely to churn than young ones."
   ]
  }
 ],
 "metadata": {
  "kernelspec": {
   "display_name": "Python 3",
   "language": "python",
   "name": "python3"
  },
  "language_info": {
   "codemirror_mode": {
    "name": "ipython",
    "version": 3
   },
   "file_extension": ".py",
   "mimetype": "text/x-python",
   "name": "python",
   "nbconvert_exporter": "python",
   "pygments_lexer": "ipython3",
   "version": "3.11.9"
  }
 },
 "nbformat": 4,
 "nbformat_minor": 5
}
